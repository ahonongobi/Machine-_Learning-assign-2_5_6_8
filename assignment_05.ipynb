{
 "cells": [
  {
   "cell_type": "markdown",
   "metadata": {},
   "source": [
    "Please fill in your name and that of your teammate.\n",
    "\n",
    "You: Ahonon Gobi Parfait\n",
    "\n",
    "Teammate:"
   ]
  },
  {
   "cell_type": "markdown",
   "metadata": {},
   "source": [
    "# Introduction"
   ]
  },
  {
   "cell_type": "markdown",
   "metadata": {},
   "source": [
    "Welcome to the fifth lab. Last week we had a break from math-heavy assignments to allow you to catch up on the fundamentals and tools seen so far. Well, as far as learning Pandas could be considered a break, anyway. We will learn more of this library over the following weeks, I hope you will develop an appreciation for its use over time.  \n",
    "_\"You may find its methods disagreeable, but you can't avoid appreciating the results\"_ (cit.)\n",
    "\n",
    "Spoiler alert: I lied last week, actually IMO Pandas' most confusing feature is `groupby()` :) but you got `loc` and `iloc` already in your pocket now, right?"
   ]
  },
  {
   "cell_type": "markdown",
   "metadata": {},
   "source": [
    "## Grouping in Pandas"
   ]
  },
  {
   "cell_type": "markdown",
   "metadata": {},
   "source": [
    "It is time to introduce some of the math applications of Pandas DataFrame and Series, and to the unfriendly-but-oh-so-useful `groupby()`.\n",
    "\n",
    "From now on we will be using Pandas containers for our data, even directly for the math calculation. Remember that they wrap around Numpy arrays (and you know how to use those now) while giving convenient indexing and extra capabilities. No need to e.g. split the points based on their class into a `dict` as we did for LDA: we can simply _group_ data by label, then all operations will work on the whole feature arrays, and run for all classes at once (and using the underlying, faster C implementation).\n",
    "\n",
    "Main hint: simply treat a DataFrame just like you would a multi-dimensional Numpy array. Just think of it as a matrix, as you already had, generalized to higher dimensions: a **tensor**. A Pandas Series on the other hand is just a one-dimensional Numpy array (vector). In either case, function calls will be _broadcasted_ to its elements: this means that they will run independently on each element and their results will be aggregated back in a data structure of the same type (list, Series or DataFrame).\n",
    "\n",
    "We will use `groupby()` extensively from today: typically it takes a while to grasp first, but your code will be legible, and you will need (almost) no more `for` loops nor `dict`s.  \n",
    "Careful though because the method returns a special [`GroupBy` object](https://pandas.pydata.org/pandas-docs/stable/reference/groupby.html), that is somehow unwieldy: **it removes a feature, adds a dimension (the grouping), and does not print directly from its output**. Read this last sentence a couple of times, then again _after_ you start playing around with `groupby()` (seriously, write it on a post-it or something), and it will help to slowly make sense of this.\n",
    "\n",
    "Initially, try to follow each call to `groupby()` with a `describe()`, to really see what is happening. Also `print` the `groups` for an intuition on how the grouping works: it's basically a `dict` from each element of the \"group\" (e.g. the classes) to the `Index` values of the corresponding rows. With LDA we already did something similar, by hand, with a `dict` hashing the classes to the actual data (less efficient than using indices).  \n",
    "\n",
    "A `GroupBy` object is just an implicit (because performance) description on how to split/group the data: any operation you call on it will return multiple results, _one per group_, instead of just one value. This is a sort of \"automated mapping\", aka [broadcasting](https://numpy.org/doc/stable/user/basics.broadcasting.html). Go ahead and play with it a bit: understanding this point is necessary to solve the next questions.  \n",
    "The trick that did it for me, was to try and ignore its output *per se* (I don't even print it), imagine it's just a fancy version of LDA's per-class `dict` we built by hand, and just call functions on the output since _their_ output makes sense again for me.\n",
    "\n",
    "From this point on, it is important that you need to start thinking of the dataset as a whole, single, high-dimensional entity, not just a list of points. It's a forest, not trees. Explore it by selecting and slicing this object from different perspectives, as if you were \"floating around it in space\" rather than being stuck to \"read one row at a time\". When you use a DataFrame for math, just remember that you are manipulating multiple variables at the same time, and you will get vectorial answers: treat it like a special Numpy data structure, and everything should eventually become intuitive."
   ]
  },
  {
   "cell_type": "markdown",
   "metadata": {},
   "source": [
    "### How to pass the lab?"
   ]
  },
  {
   "cell_type": "markdown",
   "metadata": {},
   "source": [
    "Below you find the exercise questions. Each question awarding points is numbered and states the number of points like this: **[0pt]**. To answer a question, fill the cell below with your answer (markdown for text, code for implementation). Incorrect or incomplete answers are in principle worth 0 points: to assign partial reward is only up to teacher discretion. Over-complete answers do not award extra points (though they are appreciated and will be kept under consideration). Save your work frequently! (`ctrl+s`)\n",
    "\n",
    "**You need at least 12 points (out of 18 available) to pass** (66%)."
   ]
  },
  {
   "cell_type": "code",
   "execution_count": 10,
   "metadata": {
    "ExecuteTime": {
     "end_time": "2024-06-21T15:20:07.909121Z",
     "start_time": "2024-06-21T15:20:07.904959Z"
    }
   },
   "outputs": [],
   "source": [
    "# Let me hit ctrl+c ctrl+v for you one last time\n",
    "%matplotlib inline\n",
    "import matplotlib.pyplot as plt\n",
    "import seaborn as sns\n",
    "import numpy as np\n",
    "import pandas as pd\n",
    "sns.set(rc={'figure.figsize':(8,6)}, style=\"whitegrid\")"
   ]
  },
  {
   "cell_type": "markdown",
   "metadata": {},
   "source": [
    "# 1. Fundamentals"
   ]
  },
  {
   "cell_type": "markdown",
   "metadata": {},
   "source": [
    "This time we start strong with an example that is simple but longer. Take your time to read and understand each part, follow the suggestions, and it should unravel without much trouble."
   ]
  },
  {
   "cell_type": "markdown",
   "metadata": {},
   "source": [
    "#### 1.1 **[4pt]** You want to calculate the reliability of a weather forecast service. In the current season, you get rain on 25% of the days. You know that 10% of the time they forecast rain and it does not rain. You also know that 5% of the time they forecast good weather and they are wrong. Using Bayes' rule, calculate by hand the probability that one day it is going to rain given that they earlier forecasted rain."
   ]
  },
  {
   "cell_type": "markdown",
   "metadata": {},
   "source": [
    "I suggest you proceed as follows: (i) fill the data you know in an events probability [table](https://github.com/adam-p/markdown-here/wiki/Markdown-Cheatsheet#tables), as seen in the lecture; (ii) your events are whether it is going to rain or not, and whether the forecast predicted rain or not; (iii) remember that probabilities sum to a constant over all possible events, so fill in the blanks in (a copy of) the table; (iv) state very clearly what are the posterior, prior, likelihood and evidence; (v) only assemble your Bayes' equation and calculate the numbers, once you are certain of your components."
   ]
  },
  {
   "cell_type": "markdown",
   "metadata": {},
   "source": [
    "### Step (i): Fill in the Data\n",
    "\n",
    "Given table:\n",
    "\n",
    "|               | Forecasts Rain (F) | Forecasts Good Weather (not F) | Total |\n",
    "|---------------|---------------------|--------------------------------|-------|\n",
    "| Rains (R)     |                     | 5                              | 25    |\n",
    "| Does not rain (not R) | 10          |                                |       |\n",
    "| Total         |                     |                                | 100   |\n",
    "\n",
    "From the problem, we know:\n",
    "- It rains 25% of the time ($P(R) = 0.25$), hence 25 days out of 100.\n",
    "- 10% of the time they forecast rain and it does not rain ($P(F \\mid \\neg R) = 0.10$), hence 10 days out of 100.\n",
    "- 5% of the time they forecast good weather and they are wrong ($P(\\neg F \\mid R) = 0.05$), hence 5 days out of 100.\n",
    "\n",
    "Using this information, we can fill in the table:\n",
    "\n",
    "1. **Rain and Forecasts Good Weather (not F):**\n",
    "   - $P(\\neg F \\cap R) = 5$ days (5% of 100).\n",
    "\n",
    "2. **Total Rain (R):**\n",
    "   - Total days it rains $= 25$.\n",
    "\n",
    "3. **Forecasts Rain (F) and Does not Rain (not R):**\n",
    "   - $P(F \\cap \\neg R) = 10$ days.\n",
    "\n",
    "4. **Total Does not Rain (not R):**\n",
    "   - Total days it does not rain $= 100 - 25 = 75$.\n",
    "\n",
    "5. **Total Forecasts Good Weather (not F):**\n",
    "   - $P(\\neg F) = 100 - P(F) = 100 - (P(F \\cap R) + P(F \\cap \\neg R))$.\n",
    "\n",
    "First, let's calculate the missing $P(F \\cap R)$:\n",
    "\n",
    "$ P(F \\cap R) = P(R) - P(\\neg F \\cap R) = 25 - 5 = 20 $\n",
    "\n",
    "### Updated Table:\n",
    "\n",
    "|               | Forecasts Rain (F) | Forecasts Good Weather (not F) | Total |\n",
    "|---------------|---------------------|--------------------------------|-------|\n",
    "| Rains (R)     | 20                  | 5                              | 25    |\n",
    "| Does not rain (not R) | 10          | 65                             | 75    |\n",
    "| Total         | 30                  | 70                             | 100   |\n",
    "\n",
    "### Step (ii): Define Events\n",
    "\n",
    "- **Posterior**: $P(R \\mid F)$\n",
    "- **Prior**: $P(R) = 0.25$\n",
    "- **Likelihood**: $P(F \\mid R)$\n",
    "- **Evidence**: $P(F)$\n",
    "\n",
    "### Step (iii): Calculate Probabilities\n",
    "\n",
    "$ P(F \\mid R) = \\frac{P(F \\cap R)}{P(R)} = \\frac{20}{25} = 0.8 $\n",
    "\n",
    "$ P(F) = \\frac{30}{100} = 0.3 $\n",
    "\n",
    "### Step (iv): Apply Bayes' Rule\n",
    "\n",
    "$ P(R \\mid F) = \\frac{P(F \\mid R) \\cdot P(R)}{P(F)} $\n",
    "\n",
    "$ P(R \\mid F) = \\frac{0.8 \\cdot 0.25}{0.3} = \\frac{0.2}{0.3} \\approx 0.6667 $\n",
    "\n",
    "Thus, the probability that it is going to rain given that the forecast predicted rain is approximately $66.67\\%$.\n"
   ]
  },
  {
   "cell_type": "markdown",
   "metadata": {},
   "source": [
    "#### 1.2 **[1pt]** Explain $\\hat{y} = \\text{arg}\\!\\max_{y \\in Y}\\big\\{P(y \\,|\\, x)\\big\\}$ ."
   ]
  },
  {
   "cell_type": "markdown",
   "metadata": {},
   "source": [
    "The predicted value $\\(\\hat{y}\\)$ is the one that maximizes the conditional probability $\\(P(y \\,|\\, x)\\)$ among all possible values of $\\(y\\)$. It is the most likely outcome given the observed input $\\(x\\)$."
   ]
  },
  {
   "cell_type": "markdown",
   "metadata": {},
   "source": [
    "#### 1.3 **[1pt]** How does NB differ from LDA in regards to the covariance of the distributions used to model the data?\n"
   ]
  },
  {
   "cell_type": "markdown",
   "metadata": {},
   "source": [
    "**Naive Bayes (NB)**:\n",
    "- In Naive Bayes, there is an assumption of feature independence given the class label. This means that the features are assumed to be conditionally independent given the class.\n",
    "- Due to this assumption, the covariance matrix for each class in NB is diagonal (i.e., off-diagonal elements are zero), indicating no covariance between different features.\n",
    "- This simplifies the model and makes computation more efficient, especially when dealing with high-dimensional data.\n",
    "\n",
    "**Linear Discriminant Analysis (LDA)**:\n",
    "- In LDA, there is no assumption of feature independence. Instead, LDA models the distribution of each class using a multivariate normal distribution.\n",
    "- LDA estimates a covariance matrix for each class, which captures the covariance between different features within the class.\n",
    "- Unlike NB, LDA does not assume that the features are independent given the class label. Instead, it models the covariance structure of the data directly.\n"
   ]
  },
  {
   "cell_type": "markdown",
   "metadata": {},
   "source": [
    "# 2. Model Selection for Naïve Bayes"
   ]
  },
  {
   "cell_type": "markdown",
   "metadata": {},
   "source": [
    "#### 2.1 **[3pt]** Load the `tips` dataset from Seaborn  (into a Pandas DataFrame). Which distribution would you use to model each of the features in the dataset? Explain your choices."
   ]
  },
  {
   "cell_type": "markdown",
   "metadata": {},
   "source": [
    "You load the dataset the same way you did for `iris` before. Obviously you need to study it to be able to answer. You should find useful to consider (i) the list of dtypes for each feature, (ii) the number of unique values for each of the categorical features, (iii) you can use the `pairplot` to quickly inspect the data: can you do better than a simple Gaussian if there are multiple peaks or asymmetry in the distribution of the real-valued features?  \n",
    "The code cell below is to hold your analysis, while the real answer + motivations go in the Markdown cell just underneath."
   ]
  },
  {
   "cell_type": "code",
   "execution_count": 11,
   "metadata": {
    "ExecuteTime": {
     "end_time": "2024-06-21T15:20:09.281085Z",
     "start_time": "2024-06-21T15:20:07.960052Z"
    }
   },
   "outputs": [
    {
     "name": "stdout",
     "output_type": "stream",
     "text": [
      "   total_bill   tip     sex smoker  day    time  size\n",
      "0       16.99  1.01  Female     No  Sun  Dinner     2\n",
      "1       10.34  1.66    Male     No  Sun  Dinner     3\n",
      "2       21.01  3.50    Male     No  Sun  Dinner     3\n",
      "3       23.68  3.31    Male     No  Sun  Dinner     2\n",
      "4       24.59  3.61  Female     No  Sun  Dinner     4\n",
      "<class 'pandas.core.frame.DataFrame'>\n",
      "RangeIndex: 244 entries, 0 to 243\n",
      "Data columns (total 7 columns):\n",
      " #   Column      Non-Null Count  Dtype   \n",
      "---  ------      --------------  -----   \n",
      " 0   total_bill  244 non-null    float64 \n",
      " 1   tip         244 non-null    float64 \n",
      " 2   sex         244 non-null    category\n",
      " 3   smoker      244 non-null    category\n",
      " 4   day         244 non-null    category\n",
      " 5   time        244 non-null    category\n",
      " 6   size        244 non-null    int64   \n",
      "dtypes: category(4), float64(2), int64(1)\n",
      "memory usage: 7.4 KB\n",
      "None\n",
      "Unique values for 'sex': 2\n",
      "Unique values for 'smoker': 2\n",
      "Unique values for 'day': 4\n",
      "Unique values for 'time': 2\n"
     ]
    },
    {
     "data": {
      "text/plain": "<seaborn.axisgrid.PairGrid at 0x77e432e49df0>"
     },
     "execution_count": 11,
     "metadata": {},
     "output_type": "execute_result"
    },
    {
     "data": {
      "text/plain": "<Figure size 540x540 with 12 Axes>",
      "image/png": "[encoded data removed]"
     },
     "metadata": {},
     "output_type": "display_data"
    }
   ],
   "source": [
    "import seaborn as sns\n",
    "\n",
    "# Load the tips dataset\n",
    "tips = sns.load_dataset(\"tips\")\n",
    "\n",
    "# Display the first few rows of the dataset\n",
    "print(tips.head())\n",
    "\n",
    "# Display information about the dataset\n",
    "print(tips.info())\n",
    "\n",
    "# Check the number of unique values for each categorical feature\n",
    "print(\"Unique values for 'sex':\", tips['sex'].nunique())\n",
    "print(\"Unique values for 'smoker':\", tips['smoker'].nunique())\n",
    "print(\"Unique values for 'day':\", tips['day'].nunique())\n",
    "print(\"Unique values for 'time':\", tips['time'].nunique())\n",
    "\n",
    "# Visualize the data using pairplot\n",
    "sns.pairplot(tips)\n"
   ]
  },
  {
   "cell_type": "markdown",
   "metadata": {},
   "source": [
    "I can see that the `total_bill` and `tip` features are continuous and appear to be right-skewed. For these features, I would use a log-normal distribution to model the data. The `size` feature is discrete and appears to be categorical, so I would use a multinomial distribution to model it. The `sex`, `smoker`, `day`, and `time` features are categorical, so I would use a categorical distribution to model them."
   ]
  },
  {
   "cell_type": "markdown",
   "metadata": {},
   "source": [
    "# 3. Naïve Bayes Classification"
   ]
  },
  {
   "cell_type": "markdown",
   "metadata": {},
   "source": [
    "Let's write a Naïve Bayes classifier from scratch. We will work with the `iris` dataset (again, from Seaborn) since we know already the data. All features are continuous: for simplicity we can use simple Gaussians, but we should expect some misclassification.\n",
    "\n",
    "From now on let's also introduce the train-test split so we can start verifying our model's performance the right way. Just use `train` for your answer instead of `df`, and leave `test` for the end."
   ]
  },
  {
   "cell_type": "code",
   "execution_count": 12,
   "metadata": {
    "ExecuteTime": {
     "end_time": "2024-06-21T15:20:09.286704Z",
     "start_time": "2024-06-21T15:20:09.282124Z"
    }
   },
   "outputs": [],
   "source": [
    "df = sns.load_dataset('iris')\n",
    "from sklearn.model_selection import train_test_split\n",
    "train, test = train_test_split(df, test_size=0.2) # 80-20 split"
   ]
  },
  {
   "cell_type": "markdown",
   "metadata": {},
   "source": [
    "#### 3.1 **[2pt]** Compute the priors for the three classes of the Iris dataset using the Pandas DataFrame, _in a single line of code_ and without using loops (`for`, `while`, etc.)."
   ]
  },
  {
   "cell_type": "markdown",
   "metadata": {},
   "source": [
    "One-liners are typically bad practice (remember: readability first!), but here I need to force you to learn this new tool and stop writing `for` loops, since they will not scale from now on.  \n",
    "\n",
    "Careful as many tutorials online (such as [this one](https://chrisalbon.com/machine_learning/naive_bayes/naive_bayes_classifier_from_scratch/) will explicitly select the class and run the same calculation multiple times (and in multiple lines). This approach **does not scale** to problems with 100 or 10'000 classes: learn to use `groupby()` instead!  \n",
    "_[Think: this course should make you confident enough to be the one writing the tutorials, and hopefully of much better quality!]_\n",
    "\n",
    "As a reference, you will need to (i) group the dataframe by species, (ii) select only the grouped elements (returning a Series), (iii) run the Numpy-backed `count()`, (iv) divide by the total number of elements. If you get lost on the `groupby`, try this: `groupby(feature_name)[feature_name]`.\n",
    "\n",
    "And yes it's not a problem to add a print statement in a second line :)"
   ]
  },
  {
   "cell_type": "code",
   "execution_count": 13,
   "metadata": {
    "ExecuteTime": {
     "end_time": "2024-06-21T15:20:09.299130Z",
     "start_time": "2024-06-21T15:20:09.287398Z"
    }
   },
   "outputs": [
    {
     "name": "stdout",
     "output_type": "stream",
     "text": [
      "species\n",
      "setosa        0.325000\n",
      "versicolor    0.333333\n",
      "virginica     0.341667\n",
      "Name: species, dtype: float64\n"
     ]
    }
   ],
   "source": [
    "priors = train.groupby('species')['species'].count() / len(train)\n",
    "print(priors)   "
   ]
  },
  {
   "cell_type": "markdown",
   "metadata": {},
   "source": [
    "#### 3.2 **[1pt]** Compute the means and the standard deviations for each feature and for each class of the Iris dataset using the Pandas DataFrame (one line of code each)."
   ]
  },
  {
   "cell_type": "markdown",
   "metadata": {},
   "source": [
    "As a reference, you should obtain 12 means and 12 standard deviations. Again, the use of `groupby` followed by Numpy's functions will take literally 2 lines and no loops. Remember to use the `train` data!"
   ]
  },
  {
   "cell_type": "code",
   "execution_count": 14,
   "metadata": {
    "ExecuteTime": {
     "end_time": "2024-06-21T15:20:09.309565Z",
     "start_time": "2024-06-21T15:20:09.300364Z"
    }
   },
   "outputs": [
    {
     "name": "stdout",
     "output_type": "stream",
     "text": [
      "            sepal_length  sepal_width  petal_length  petal_width\n",
      "species                                                         \n",
      "setosa          4.989744     3.402564      1.471795     0.246154\n",
      "versicolor      5.975000     2.775000      4.225000     1.305000\n",
      "virginica       6.690244     3.021951      5.648780     2.058537\n",
      "            sepal_length  sepal_width  petal_length  petal_width\n",
      "species                                                         \n",
      "setosa          0.328309     0.353544      0.166936     0.099594\n",
      "versicolor      0.542430     0.326402      0.480251     0.196051\n",
      "virginica       0.641796     0.322112      0.555483     0.281048\n"
     ]
    }
   ],
   "source": [
    "means = train.groupby('species').mean()\n",
    "stds = train.groupby('species').std()\n",
    "print(means)\n",
    "print(stds)\n"
   ]
  },
  {
   "cell_type": "markdown",
   "metadata": {},
   "source": [
    "Here is a freebie to save you some debugging time: the (stunted) equation for the Gaussian probability. Stunted in the sense that, since it is only used to maximize the class probability, parts that do not depend on the class have been dropped (as usual). It requires you to define first the variables `means` and `stds` from the previous question (both $(3\\times4)$ DataFrames).\n",
    "\n",
    "If you really want to understand what is going on (especially with Pandas), I challenge you to comment it out, pull the slides, and write your own. You did something very close for LDA, feel free to review your code. You don't need it to look identical as long as it does the same job.\n",
    "\n",
    "Remember that Naïve Bayes computes the class likelihood as a product of the independent probabilities for each feature: this is done by the `product()` on the columns. If you remove that, you should have 12 values (give it a try).\n",
    "\n",
    "When passing a line of input to `likelihood` be careful to remove the last column (the `species`) as in the example below (in our previous calculations this was done by the `groupby()`, which made a new dimension out of it).\n",
    "\n",
    "Also something that can be important: sometimes `iloc[]` converts the type of the data slice, so you can have errors because a function cannot be broadcasted. In that case, remember that calling `.astype('float')` will force the dtype to `float` and address some of these errors. This is not the most elegant solution, I will leave it to you to find a better one ;)"
   ]
  },
  {
   "cell_type": "code",
   "execution_count": 15,
   "metadata": {
    "scrolled": true,
    "ExecuteTime": {
     "end_time": "2024-06-21T15:20:09.317213Z",
     "start_time": "2024-06-21T15:20:09.310448Z"
    }
   },
   "outputs": [
    {
     "data": {
      "text/plain": "species\nsetosa        3.496535e-182\nversicolor     3.602941e-02\nvirginica      1.869496e+01\ndtype: float64"
     },
     "execution_count": 15,
     "metadata": {},
     "output_type": "execute_result"
    }
   ],
   "source": [
    "# What do you think of the style of this Gaussian one-liner?\n",
    "likelihood = lambda x: (np.exp(-(x-means)**2/(2*stds**2))/stds).product(axis=1)\n",
    "likelihood(train.iloc[0, :-1].astype('float'))"
   ]
  },
  {
   "cell_type": "markdown",
   "metadata": {},
   "source": [
    "#### 3.3 **[1pt]** Write a Python function that takes a single line of input $x$ and returns the prediction of its class $\\hat{y}$. Run it on the same data point as the example cell above. Is the prediction the same as you would have from the cell above? Why / why not?"
   ]
  },
  {
   "cell_type": "markdown",
   "metadata": {},
   "source": [
    "As a sanity check: it should take a row as input (without labels, as for `likelihood` above) and return the string found in the `index` of the max value (the documentation is your friend)."
   ]
  },
  {
   "cell_type": "code",
   "execution_count": 16,
   "metadata": {
    "ExecuteTime": {
     "end_time": "2024-06-21T15:20:09.322862Z",
     "start_time": "2024-06-21T15:20:09.318059Z"
    }
   },
   "outputs": [
    {
     "name": "stdout",
     "output_type": "stream",
     "text": [
      "virginica\n"
     ]
    }
   ],
   "source": [
    "def my_predict_fn(x):\n",
    "    return (priors * likelihood(x)).idxmax()\n",
    "\n",
    "print(my_predict_fn(train.iloc[0, :-1].astype('float')))\n"
   ]
  },
  {
   "cell_type": "markdown",
   "metadata": {},
   "source": [
    "The prediction is not the same as the one from the cell above because the `my_predict_fn` function returns the class label of the maximum likelihood, while the likelihood function returns the actual likelihood value. The prediction is based on the class with the highest likelihood, not the likelihood value itself."
   ]
  },
  {
   "cell_type": "markdown",
   "metadata": {},
   "source": [
    "#### 3.4 **[2pt]** Compute $\\hat{y}$ for all points in the `test` dataset, in one line and without using Python loops (`for`, `while`, etc.). Compare it with the correct label $y$ and print the number of misclassified points."
   ]
  },
  {
   "cell_type": "markdown",
   "metadata": {},
   "source": [
    "And here is how you use the test set: after the training on the train set is complete, you evaluate its performance on data it was not trained on. This is absolutely **crucial** in machine learning. We will use this process from now on, and using the wrong dataset (either for training or testing) will be considered a major error (so careful with typos! Double-check every time!). If you wonder why so strict, check again the 4th lecture and ask yourself what are the consequences of getting it wrong in a work or research setting (and feel free to discuss on Moodle).\n",
    "\n",
    "Again, no loops: you need both to drop the last column and then to apply the function to the rows. For example: `train.iloc[:, :-1].apply(my_predict_fn, axis=1)`. Can you make it look nicer/more readable?\n",
    "\n",
    "Remember you can count the number of `True` values in a numpy array simply by calling `sum()` on it."
   ]
  },
  {
   "cell_type": "code",
   "execution_count": 17,
   "metadata": {
    "ExecuteTime": {
     "end_time": "2024-06-21T15:20:09.415431Z",
     "start_time": "2024-06-21T15:20:09.323781Z"
    }
   },
   "outputs": [
    {
     "name": "stdout",
     "output_type": "stream",
     "text": [
      "0.06666666666666667\n"
     ]
    }
   ],
   "source": [
    "misclassified = (test.iloc[:, :-1].apply(my_predict_fn, axis=1) != test['species']).sum()\n",
    "\n",
    "print(misclassified/len(test.iloc[:, :-1].apply(my_predict_fn, axis=1)))\n"
   ]
  },
  {
   "cell_type": "markdown",
   "metadata": {},
   "source": [
    "#### 3.5 **[1pt]** Why did we not compute (nor need) the _evidence_ for predicting the input's class?"
   ]
  },
  {
   "cell_type": "markdown",
   "metadata": {},
   "source": [
    "We did not compute the evidence for predicting the input's class because we are only interested in finding the class with the maximum likelihood. The evidence is a normalization constant that ensures that the probabilities sum to 1 over all classes. However, since we are only interested in the class with the highest likelihood, we can ignore the evidence term and directly compare the likelihoods of different classes to find the most likely class."
   ]
  },
  {
   "cell_type": "markdown",
   "metadata": {},
   "source": [
    "#### 3.6 **[2pt]** Train a scikit-learn Naïve Bayes Gaussian classifier on the Iris train data using a Pandas Dataframe, and print the number of misclassified points on the test data."
   ]
  },
  {
   "cell_type": "markdown",
   "metadata": {},
   "source": [
    "Remember that:\n",
    "- Now that we have a bit more experience with Pandas we can learn how to pass the DataFrames directly to scikit-learn.\n",
    "- The training data should always be 2D (i.e. DataFrame) and not have the label (`train.iloc[:,:-1]`, do you know what each `:` stands for?).\n",
    "- The labels should always be 1D (i.e. Series) and numerical. Rather than doing the conversion manually, you should convert the feature to categorical and then use its codes (`train['species'].astype('category').cat.codes`).\n",
    "- Mistakenly testing on the train set will fail the question, as will comparing the prediction against the train set labels (hint hint).\n",
    "- You will probably get better results with scikit-learn because it uses multivariate Gaussians and improved estimators (check the [documentation](https://scikit-learn.org/stable/modules/generated/sklearn.naive_bayes.GaussianNB.html))."
   ]
  },
  {
   "cell_type": "code",
   "execution_count": 18,
   "metadata": {
    "ExecuteTime": {
     "end_time": "2024-06-21T15:20:09.427761Z",
     "start_time": "2024-06-21T15:20:09.416510Z"
    }
   },
   "outputs": [
    {
     "name": "stdout",
     "output_type": "stream",
     "text": [
      "0.06666666666666667\n"
     ]
    }
   ],
   "source": [
    "from sklearn.naive_bayes import GaussianNB\n",
    "\n",
    "# Train a Gaussian Naive Bayes classifier\n",
    "gnb = GaussianNB()\n",
    "gnb.fit(train.iloc[:, :-1], train['species'].astype('category').cat.codes)\n",
    "\n",
    "# Predict the classes for the test data\n",
    "y_pred = gnb.predict(test.iloc[:, :-1])\n",
    "\n",
    "# Compute the number of misclassified points\n",
    "misclassified = (y_pred != test['species'].astype('category').cat.codes).sum()\n",
    "print(misclassified/len(test))"
   ]
  },
  {
   "cell_type": "markdown",
   "metadata": {},
   "source": [
    "# At the end of the exercise"
   ]
  },
  {
   "cell_type": "markdown",
   "metadata": {},
   "source": [
    "Bonus question with no points! Answering this will have no influence on your scoring, not at the assignment and not towards the exam score -- really feel free to ignore it with no consequence. But solving it will reward you with skills that will make the next lectures easier, give you real applications, and will be good practice towards the exam.\n",
    "\n",
    "The solution for this questions will not be included in the regular lab solutions pdf, but you are welcome to open a discussion on the Moodle: we will support your addressing it, and you may meet other students that choose to solve this, and find a teammate for the next assignment that is willing to do things for fun and not only for score :)"
   ]
  },
  {
   "cell_type": "markdown",
   "metadata": {},
   "source": [
    "#### BONUS **[ZERO pt]** Do a bit of independent research, and propose below the simplest example you can, to make evident how the frequentist and Bayesian approaches are different.\n",
    "\n",
    "I advise against blind copy+paste from the Internet in this case, I have seen so many incorrect opinions and tutorials over the years it is frankly ridiculous. I suggest you rather argue a bit on the Moodle about the approaches themselves, so you can make sure your example is correct.\n",
    "\n",
    "A good intro: [[link]](https://ocw.mit.edu/courses/mathematics/18-05-introduction-to-probability-and-statistics-spring-2014/readings/MIT18_05S14_Reading20.pdf)."
   ]
  },
  {
   "cell_type": "markdown",
   "metadata": {},
   "source": [
    "#### BONUS **[ZERO pt]** Train a Gaussian NB (either your code or scikit-learn) on the full Iris dataset (no train-test split) and check the misclassifications. Train the same on the 80% training data, then check and aggregate misclassifications both on the train and test datasets. You will probably get the same number of total errors regardless of whether you trained on 80% or 100% of the data. Can you explain why? The reason was mentioned in the last lecture. Feel free to play with different splits until you find how low can you go with the training before increasing the number of errors. Use the term `statistically representative` in your explanation."
   ]
  },
  {
   "cell_type": "markdown",
   "metadata": {},
   "source": [
    "### Final considerations"
   ]
  },
  {
   "cell_type": "markdown",
   "metadata": {},
   "source": [
    "- This is the first core ML method we are covering in the course. As you see you need to know quite a few concepts before we can really discuss its inner workings.\n",
    "- On the other hand, you now already own most of the glossary and knowledge needed, so you only need to put it all together. The rest of the course will follow this same pattern.\n",
    "- This is also your first method capable of *nonlinear classification*. Notice how LDA used nonlinear models for the data (Gaussian clusters) but still relied on linear separation boundaries (weirdly obtaining $m$ and $q$ from class-pair inequalities)? NB can work with multiple classes and different types of distributions (think Mixture of Gaussians), the division boundary is not (necessarily) a line anymore.\n",
    "- In the next two lectures we will start learning about one of the bigger classic ML tools still state-of-the-art today: the Support Vector Machine, and the Kernel Trick. We are reaching the \"cruise speed\" level of complexity for the course, we will stay close to this level until the exam. Keep up with the lectures and exercises and you should have no trouble. Good luck!"
   ]
  }
 ],
 "metadata": {
  "kernelspec": {
   "display_name": "Python 3 (ipykernel)",
   "language": "python",
   "name": "python3"
  },
  "language_info": {
   "codemirror_mode": {
    "name": "ipython",
    "version": 3
   },
   "file_extension": ".py",
   "mimetype": "text/x-python",
   "name": "python",
   "nbconvert_exporter": "python",
   "pygments_lexer": "ipython3",
   "version": "3.10.12"
  }
 },
 "nbformat": 4,
 "nbformat_minor": 4
}
